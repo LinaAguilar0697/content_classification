{
 "cells": [
  {
   "cell_type": "code",
   "execution_count": 30,
   "metadata": {},
   "outputs": [],
   "source": [
    "import pandas as pd\n",
    "\n",
    "INPUT_DATA_PATH = \"contenidos_con_detalle.csv\"\n",
    "COMPETENCE_DEFINITION_PATH = \"competence_definitions.csv\"\n",
    "\n",
    "input_data = pd.read_csv(INPUT_DATA_PATH)\n",
    "competence_definitions = pd.read_csv(COMPETENCE_DEFINITION_PATH)"
   ]
  },
  {
   "cell_type": "code",
   "execution_count": 31,
   "metadata": {},
   "outputs": [
    {
     "data": {
      "text/html": [
       "<div>\n",
       "<style scoped>\n",
       "    .dataframe tbody tr th:only-of-type {\n",
       "        vertical-align: middle;\n",
       "    }\n",
       "\n",
       "    .dataframe tbody tr th {\n",
       "        vertical-align: top;\n",
       "    }\n",
       "\n",
       "    .dataframe thead th {\n",
       "        text-align: right;\n",
       "    }\n",
       "</style>\n",
       "<table border=\"1\" class=\"dataframe\">\n",
       "  <thead>\n",
       "    <tr style=\"text-align: right;\">\n",
       "      <th></th>\n",
       "      <th>ability</th>\n",
       "      <th>ability_definition</th>\n",
       "    </tr>\n",
       "  </thead>\n",
       "  <tbody>\n",
       "    <tr>\n",
       "      <th>0</th>\n",
       "      <td>Autogestión</td>\n",
       "      <td>Habilidad para orientar la toma de decisiones ...</td>\n",
       "    </tr>\n",
       "    <tr>\n",
       "      <th>1</th>\n",
       "      <td>Proactividad</td>\n",
       "      <td>Habilidad para tomar activamente el control y ...</td>\n",
       "    </tr>\n",
       "    <tr>\n",
       "      <th>2</th>\n",
       "      <td>Integridad</td>\n",
       "      <td>Habilidad para alinear las acciones propias a ...</td>\n",
       "    </tr>\n",
       "    <tr>\n",
       "      <th>3</th>\n",
       "      <td>Empatía</td>\n",
       "      <td>Habilidad para identificarse con el otro recon...</td>\n",
       "    </tr>\n",
       "    <tr>\n",
       "      <th>4</th>\n",
       "      <td>Autoconocimiento</td>\n",
       "      <td>Habilidad para reconocer los propios estados m...</td>\n",
       "    </tr>\n",
       "    <tr>\n",
       "      <th>...</th>\n",
       "      <td>...</td>\n",
       "      <td>...</td>\n",
       "    </tr>\n",
       "    <tr>\n",
       "      <th>151</th>\n",
       "      <td>Herramientas de diseño</td>\n",
       "      <td>Habilidad para usar diferentes herramientas di...</td>\n",
       "    </tr>\n",
       "    <tr>\n",
       "      <th>152</th>\n",
       "      <td>Computadores, dispositivos electrónicos e inte...</td>\n",
       "      <td>Habilidad para emplear, configurar y aprovecha...</td>\n",
       "    </tr>\n",
       "    <tr>\n",
       "      <th>153</th>\n",
       "      <td>Herramientas de ventas</td>\n",
       "      <td>Habilidad para emplear, configurar y aprovecha...</td>\n",
       "    </tr>\n",
       "    <tr>\n",
       "      <th>154</th>\n",
       "      <td>Sistema Linux</td>\n",
       "      <td>Sistema operativo de código abierto basado en ...</td>\n",
       "    </tr>\n",
       "    <tr>\n",
       "      <th>155</th>\n",
       "      <td>Herramientas de Amazon</td>\n",
       "      <td>Habilidad para emplear, configurar y aprovecha...</td>\n",
       "    </tr>\n",
       "  </tbody>\n",
       "</table>\n",
       "<p>156 rows × 2 columns</p>\n",
       "</div>"
      ],
      "text/plain": [
       "                                               ability  \\\n",
       "0                                          Autogestión   \n",
       "1                                         Proactividad   \n",
       "2                                           Integridad   \n",
       "3                                              Empatía   \n",
       "4                                     Autoconocimiento   \n",
       "..                                                 ...   \n",
       "151                             Herramientas de diseño   \n",
       "152  Computadores, dispositivos electrónicos e inte...   \n",
       "153                             Herramientas de ventas   \n",
       "154                                      Sistema Linux   \n",
       "155                             Herramientas de Amazon   \n",
       "\n",
       "                                    ability_definition  \n",
       "0    Habilidad para orientar la toma de decisiones ...  \n",
       "1    Habilidad para tomar activamente el control y ...  \n",
       "2    Habilidad para alinear las acciones propias a ...  \n",
       "3    Habilidad para identificarse con el otro recon...  \n",
       "4    Habilidad para reconocer los propios estados m...  \n",
       "..                                                 ...  \n",
       "151  Habilidad para usar diferentes herramientas di...  \n",
       "152  Habilidad para emplear, configurar y aprovecha...  \n",
       "153  Habilidad para emplear, configurar y aprovecha...  \n",
       "154  Sistema operativo de código abierto basado en ...  \n",
       "155  Habilidad para emplear, configurar y aprovecha...  \n",
       "\n",
       "[156 rows x 2 columns]"
      ]
     },
     "execution_count": 31,
     "metadata": {},
     "output_type": "execute_result"
    }
   ],
   "source": [
    "competence_definitions[[\"ability\",\"ability_definition\"]]"
   ]
  },
  {
   "cell_type": "code",
   "execution_count": 32,
   "metadata": {},
   "outputs": [
    {
     "name": "stderr",
     "output_type": "stream",
     "text": [
      "C:\\Users\\Ubits.PC220318\\AppData\\Local\\Temp\\ipykernel_5428\\2472729344.py:8: SettingWithCopyWarning: \n",
      "A value is trying to be set on a copy of a slice from a DataFrame.\n",
      "Try using .loc[row_indexer,col_indexer] = value instead\n",
      "\n",
      "See the caveats in the documentation: https://pandas.pydata.org/pandas-docs/stable/user_guide/indexing.html#returning-a-view-versus-a-copy\n",
      "  content_info['course_name_description'] = content_info.apply(lambda row: concat_cols(row, cols=['NOMBRE FINAL','DESCRIPCIÓN']), axis=1)\n"
     ]
    }
   ],
   "source": [
    "content_info = input_data[['ID','NOMBRE FINAL','DESCRIPCIÓN','COMPETENCIA',\n",
    "       'HABILIDAD PRINCIPAL', 'HABILIDAD 2', 'HABILIDAD 3', 'COMPETENCIA 2',\n",
    "       'COMPETENCIA 3']]\n",
    "\n",
    "def concat_cols(row, cols:list [str], sep=': \\n')-> str:\n",
    "    return sep.join([str(row[col]) for col in cols])\n",
    "\n",
    "content_info['course_name_description'] = content_info.apply(lambda row: concat_cols(row, cols=['NOMBRE FINAL','DESCRIPCIÓN']), axis=1)"
   ]
  },
  {
   "cell_type": "code",
   "execution_count": 33,
   "metadata": {},
   "outputs": [],
   "source": [
    "content_info = content_info.merge(competence_definitions[[\"ability\",\"ability_definition\"]], left_on=\"HABILIDAD PRINCIPAL\", right_on=\"ability\", how=\"left\")\n",
    "content_info['principal_ability_description'] = content_info.apply(lambda row: concat_cols(row, cols=['HABILIDAD PRINCIPAL','ability_definition']), axis=1)\n",
    "content_info = content_info.drop(['ability', 'ability_definition'], axis=1)\n",
    "\n",
    "content_info = content_info.merge(competence_definitions[[\"ability\",\"ability_definition\"]], left_on=\"HABILIDAD 2\", right_on=\"ability\", how=\"left\")\n",
    "content_info['second_ability_description'] = content_info.apply(lambda row: concat_cols(row, cols=['HABILIDAD 2','ability_definition']), axis=1)\n",
    "content_info = content_info.drop(['ability', 'ability_definition'], axis=1)\n",
    "\n",
    "content_info = content_info.merge(competence_definitions[[\"ability\",\"ability_definition\"]], left_on=\"HABILIDAD 3\", right_on=\"ability\", how=\"left\")\n",
    "content_info['third_ability_description'] = content_info.apply(lambda row: concat_cols(row, cols=['HABILIDAD 3','ability_definition']), axis=1)\n",
    "content_info = content_info.drop(['ability', 'ability_definition'], axis=1)"
   ]
  },
  {
   "cell_type": "code",
   "execution_count": 35,
   "metadata": {},
   "outputs": [],
   "source": [
    "content_info_for_embedding = content_info[[\"ID\", \"course_name_description\",\"principal_ability_description\",\"second_ability_description\",\"third_ability_description\"]] "
   ]
  },
  {
   "cell_type": "code",
   "execution_count": 37,
   "metadata": {},
   "outputs": [],
   "source": [
    "content_info_for_embedding.to_csv('content_gsheet_info.csv', index=False)"
   ]
  }
 ],
 "metadata": {
  "kernelspec": {
   "display_name": "Python 3",
   "language": "python",
   "name": "python3"
  },
  "language_info": {
   "codemirror_mode": {
    "name": "ipython",
    "version": 3
   },
   "file_extension": ".py",
   "mimetype": "text/x-python",
   "name": "python",
   "nbconvert_exporter": "python",
   "pygments_lexer": "ipython3",
   "version": "3.10.4"
  }
 },
 "nbformat": 4,
 "nbformat_minor": 2
}
